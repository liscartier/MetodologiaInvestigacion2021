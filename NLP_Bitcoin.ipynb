{
  "nbformat": 4,
  "nbformat_minor": 0,
  "metadata": {
    "colab": {
      "name": "NLP_Bitcoin.ipynb",
      "provenance": [],
      "include_colab_link": true
    },
    "kernelspec": {
      "name": "python3",
      "display_name": "Python 3"
    },
    "language_info": {
      "name": "python"
    }
  },
  "cells": [
    {
      "cell_type": "markdown",
      "metadata": {
        "id": "view-in-github",
        "colab_type": "text"
      },
      "source": [
        "<a href=\"https://colab.research.google.com/github/cristiandalmaso2/MetodologiaInvestigacion2021/blob/main/NLP_Bitcoin.ipynb\" target=\"_parent\"><img src=\"https://colab.research.google.com/assets/colab-badge.svg\" alt=\"Open In Colab\"/></a>"
      ]
    },
    {
      "cell_type": "markdown",
      "metadata": {
        "id": "0JDgVMQNH8E_"
      },
      "source": [
        "#Predicción del precio del Bitcoin usando NLP"
      ]
    },
    {
      "cell_type": "markdown",
      "metadata": {
        "id": "g0HDS3ThZdYN"
      },
      "source": [
        "## Instalar y cargar librerías"
      ]
    },
    {
      "cell_type": "code",
      "metadata": {
        "colab": {
          "base_uri": "https://localhost:8080/"
        },
        "id": "ZN8ba53JKzPH",
        "outputId": "ee524483-74de-4387-b65d-1515ba88eede"
      },
      "source": [
        "pip install OpenBlender"
      ],
      "execution_count": null,
      "outputs": [
        {
          "output_type": "stream",
          "text": [
            "Collecting OpenBlender\n",
            "  Downloading https://files.pythonhosted.org/packages/c8/1a/1b656b0efa4ee5bf7736f6b2e3495efdbb152a0c1e28f1ba1705b2670c40/OpenBlender-2.9.tar.gz\n",
            "Requirement already satisfied: numpy in /usr/local/lib/python3.7/dist-packages (from OpenBlender) (1.19.5)\n",
            "Requirement already satisfied: pandas in /usr/local/lib/python3.7/dist-packages (from OpenBlender) (1.1.5)\n",
            "Collecting datetime\n",
            "\u001b[?25l  Downloading https://files.pythonhosted.org/packages/73/22/a5297f3a1f92468cc737f8ce7ba6e5f245fcfafeae810ba37bd1039ea01c/DateTime-4.3-py2.py3-none-any.whl (60kB)\n",
            "\u001b[K     |████████████████████████████████| 61kB 2.3MB/s \n",
            "\u001b[?25hRequirement already satisfied: requests in /usr/local/lib/python3.7/dist-packages (from OpenBlender) (2.23.0)\n",
            "Requirement already satisfied: python-dateutil>=2.7.3 in /usr/local/lib/python3.7/dist-packages (from pandas->OpenBlender) (2.8.1)\n",
            "Requirement already satisfied: pytz>=2017.2 in /usr/local/lib/python3.7/dist-packages (from pandas->OpenBlender) (2018.9)\n",
            "Collecting zope.interface\n",
            "\u001b[?25l  Downloading https://files.pythonhosted.org/packages/bb/a7/94e1a92c71436f934cdd2102826fa041c83dcb7d21dd0f1fb1a57f6e0620/zope.interface-5.4.0-cp37-cp37m-manylinux2010_x86_64.whl (251kB)\n",
            "\u001b[K     |████████████████████████████████| 256kB 5.2MB/s \n",
            "\u001b[?25hRequirement already satisfied: idna<3,>=2.5 in /usr/local/lib/python3.7/dist-packages (from requests->OpenBlender) (2.10)\n",
            "Requirement already satisfied: certifi>=2017.4.17 in /usr/local/lib/python3.7/dist-packages (from requests->OpenBlender) (2020.12.5)\n",
            "Requirement already satisfied: urllib3!=1.25.0,!=1.25.1,<1.26,>=1.21.1 in /usr/local/lib/python3.7/dist-packages (from requests->OpenBlender) (1.24.3)\n",
            "Requirement already satisfied: chardet<4,>=3.0.2 in /usr/local/lib/python3.7/dist-packages (from requests->OpenBlender) (3.0.4)\n",
            "Requirement already satisfied: six>=1.5 in /usr/local/lib/python3.7/dist-packages (from python-dateutil>=2.7.3->pandas->OpenBlender) (1.15.0)\n",
            "Requirement already satisfied: setuptools in /usr/local/lib/python3.7/dist-packages (from zope.interface->datetime->OpenBlender) (56.1.0)\n",
            "Building wheels for collected packages: OpenBlender\n",
            "  Building wheel for OpenBlender (setup.py) ... \u001b[?25l\u001b[?25hdone\n",
            "  Created wheel for OpenBlender: filename=OpenBlender-2.9-cp37-none-any.whl size=6561 sha256=92f96b572db888f1e26413f0eeb1a1f0e7727a37f2789c522f761723bd312ca3\n",
            "  Stored in directory: /root/.cache/pip/wheels/f6/34/de/fd9cf58fca4c0530f1e9b313b5638ab3d28a66f3080a55946e\n",
            "Successfully built OpenBlender\n",
            "Installing collected packages: zope.interface, datetime, OpenBlender\n",
            "Successfully installed OpenBlender-2.9 datetime-4.3 zope.interface-5.4.0\n"
          ],
          "name": "stdout"
        }
      ]
    },
    {
      "cell_type": "code",
      "metadata": {
        "id": "Umcpc-K9Hpri"
      },
      "source": [
        "import pandas as pd\n",
        "import numpy as np\n",
        "import OpenBlender\n",
        "import json\n",
        "import matplotlib.pyplot as plt"
      ],
      "execution_count": null,
      "outputs": []
    },
    {
      "cell_type": "markdown",
      "metadata": {
        "id": "grmzf63_ZaM8"
      },
      "source": [
        "## Obtener los datos históricos del bitcoin"
      ]
    },
    {
      "cell_type": "code",
      "metadata": {
        "colab": {
          "base_uri": "https://localhost:8080/"
        },
        "id": "t1Rap-PFLhU0",
        "outputId": "058b1003-253f-4f82-fbdd-be32745ad81f"
      },
      "source": [
        "token = '60b690829516291fe98257255sfBVoJ7MEjjfytjEuzDLsNiKIknjE'                #Genero el API token en OpenBlender \n",
        "action = 'API_getObservationsFromDataset'\n",
        "\n",
        "# ANCHOR: 'Bitcoin vs USD'\n",
        "  \n",
        "parameters = { \n",
        "    'token' : token,\n",
        "    'id_dataset' : '5d4c3af79516290b01c83f51',\n",
        "    'date_filter':{\"start_date\" : \"2020-01-01\",\n",
        "                   \"end_date\" : \"2020-12-31\"} \n",
        "} \n",
        "\n",
        "df = pd.read_json(json.dumps(OpenBlender.call(action, parameters)['sample']), convert_dates=False, convert_axes=False).sort_values('timestamp', ascending=False)\n",
        "\n",
        "df.reset_index(drop=True, inplace=True)\n",
        "df['date'] = [OpenBlender.unixToDate(ts, timezone = 'GMT') for ts in df.timestamp]\n",
        "df = df.drop('timestamp', axis = 1)"
      ],
      "execution_count": null,
      "outputs": [
        {
          "output_type": "stream",
          "text": [
            "Task ID: '60b697990895fafb4a9d8d4b'.\n",
            "Total estimated consumption: 500.03 processing units.\n",
            "Task confirmed. Starting download..\n",
            "100.0 % completed.\n"
          ],
          "name": "stdout"
        }
      ]
    },
    {
      "cell_type": "code",
      "metadata": {
        "colab": {
          "base_uri": "https://localhost:8080/"
        },
        "id": "wcO2YpJMQ9aF",
        "outputId": "d8576892-d8ef-4120-be9a-bba32e5df697"
      },
      "source": [
        "df.shape"
      ],
      "execution_count": null,
      "outputs": [
        {
          "output_type": "execute_result",
          "data": {
            "text/plain": [
              "(336, 7)"
            ]
          },
          "metadata": {
            "tags": []
          },
          "execution_count": 9
        }
      ]
    },
    {
      "cell_type": "code",
      "metadata": {
        "colab": {
          "base_uri": "https://localhost:8080/",
          "height": 191
        },
        "id": "Alo61bOJQ-_X",
        "outputId": "1288b9f1-2b3b-45e4-98e4-f6c8efc8594a"
      },
      "source": [
        "df.head()"
      ],
      "execution_count": null,
      "outputs": [
        {
          "output_type": "execute_result",
          "data": {
            "text/html": [
              "<div>\n",
              "<style scoped>\n",
              "    .dataframe tbody tr th:only-of-type {\n",
              "        vertical-align: middle;\n",
              "    }\n",
              "\n",
              "    .dataframe tbody tr th {\n",
              "        vertical-align: top;\n",
              "    }\n",
              "\n",
              "    .dataframe thead th {\n",
              "        text-align: right;\n",
              "    }\n",
              "</style>\n",
              "<table border=\"1\" class=\"dataframe\">\n",
              "  <thead>\n",
              "    <tr style=\"text-align: right;\">\n",
              "      <th></th>\n",
              "      <th>volume</th>\n",
              "      <th>price</th>\n",
              "      <th>high</th>\n",
              "      <th>low</th>\n",
              "      <th>open</th>\n",
              "      <th>change</th>\n",
              "      <th>date</th>\n",
              "    </tr>\n",
              "  </thead>\n",
              "  <tbody>\n",
              "    <tr>\n",
              "      <th>0</th>\n",
              "      <td>10.51K</td>\n",
              "      <td>28880.0</td>\n",
              "      <td>28892.0</td>\n",
              "      <td>27316.0</td>\n",
              "      <td>27316.0</td>\n",
              "      <td>5.73%</td>\n",
              "      <td>30-12-2020 17:00:00</td>\n",
              "    </tr>\n",
              "    <tr>\n",
              "      <th>1</th>\n",
              "      <td>8.92K</td>\n",
              "      <td>27315.0</td>\n",
              "      <td>27315.0</td>\n",
              "      <td>25923.0</td>\n",
              "      <td>27058.0</td>\n",
              "      <td>0.95%</td>\n",
              "      <td>29-12-2020 17:00:00</td>\n",
              "    </tr>\n",
              "    <tr>\n",
              "      <th>2</th>\n",
              "      <td>7.60K</td>\n",
              "      <td>27058.0</td>\n",
              "      <td>27308.0</td>\n",
              "      <td>26241.0</td>\n",
              "      <td>26241.0</td>\n",
              "      <td>3.11%</td>\n",
              "      <td>28-12-2020 17:00:00</td>\n",
              "    </tr>\n",
              "    <tr>\n",
              "      <th>3</th>\n",
              "      <td>17.96K</td>\n",
              "      <td>26241.0</td>\n",
              "      <td>28051.1</td>\n",
              "      <td>26241.0</td>\n",
              "      <td>26410.0</td>\n",
              "      <td>-0.65%</td>\n",
              "      <td>27-12-2020 17:00:00</td>\n",
              "    </tr>\n",
              "    <tr>\n",
              "      <th>4</th>\n",
              "      <td>13.15K</td>\n",
              "      <td>26412.0</td>\n",
              "      <td>26577.0</td>\n",
              "      <td>24566.0</td>\n",
              "      <td>24717.0</td>\n",
              "      <td>6.86%</td>\n",
              "      <td>26-12-2020 17:00:00</td>\n",
              "    </tr>\n",
              "  </tbody>\n",
              "</table>\n",
              "</div>"
            ],
            "text/plain": [
              "   volume    price     high      low     open  change                 date\n",
              "0  10.51K  28880.0  28892.0  27316.0  27316.0   5.73%  30-12-2020 17:00:00\n",
              "1   8.92K  27315.0  27315.0  25923.0  27058.0   0.95%  29-12-2020 17:00:00\n",
              "2   7.60K  27058.0  27308.0  26241.0  26241.0   3.11%  28-12-2020 17:00:00\n",
              "3  17.96K  26241.0  28051.1  26241.0  26410.0  -0.65%  27-12-2020 17:00:00\n",
              "4  13.15K  26412.0  26577.0  24566.0  24717.0   6.86%  26-12-2020 17:00:00"
            ]
          },
          "metadata": {
            "tags": []
          },
          "execution_count": 12
        }
      ]
    },
    {
      "cell_type": "markdown",
      "metadata": {
        "id": "EMLZIwOBZOKn"
      },
      "source": [
        "## Definir y entender la variable objetivo"
      ]
    },
    {
      "cell_type": "code",
      "metadata": {
        "id": "G9LtqFroRCMP"
      },
      "source": [
        "df[\"log_diff\"] = np.log(df[\"price\"]) - np.log(df[\"open\"]) #rendimiento logarítmico, nueva columna."
      ],
      "execution_count": null,
      "outputs": []
    },
    {
      "cell_type": "code",
      "metadata": {
        "colab": {
          "base_uri": "https://localhost:8080/",
          "height": 391
        },
        "id": "pCyu3ZI6T7vk",
        "outputId": "86e674da-a935-4f3e-f9e2-9a55e105a3fa"
      },
      "source": [
        "df"
      ],
      "execution_count": null,
      "outputs": [
        {
          "output_type": "execute_result",
          "data": {
            "text/html": [
              "<div>\n",
              "<style scoped>\n",
              "    .dataframe tbody tr th:only-of-type {\n",
              "        vertical-align: middle;\n",
              "    }\n",
              "\n",
              "    .dataframe tbody tr th {\n",
              "        vertical-align: top;\n",
              "    }\n",
              "\n",
              "    .dataframe thead th {\n",
              "        text-align: right;\n",
              "    }\n",
              "</style>\n",
              "<table border=\"1\" class=\"dataframe\">\n",
              "  <thead>\n",
              "    <tr style=\"text-align: right;\">\n",
              "      <th></th>\n",
              "      <th>volume</th>\n",
              "      <th>price</th>\n",
              "      <th>high</th>\n",
              "      <th>low</th>\n",
              "      <th>open</th>\n",
              "      <th>change</th>\n",
              "      <th>date</th>\n",
              "      <th>log_diff</th>\n",
              "    </tr>\n",
              "  </thead>\n",
              "  <tbody>\n",
              "    <tr>\n",
              "      <th>0</th>\n",
              "      <td>10.51K</td>\n",
              "      <td>28880.0</td>\n",
              "      <td>28892.0</td>\n",
              "      <td>27316.0</td>\n",
              "      <td>27316.0</td>\n",
              "      <td>5.73%</td>\n",
              "      <td>30-12-2020 17:00:00</td>\n",
              "      <td>0.055677</td>\n",
              "    </tr>\n",
              "    <tr>\n",
              "      <th>1</th>\n",
              "      <td>8.92K</td>\n",
              "      <td>27315.0</td>\n",
              "      <td>27315.0</td>\n",
              "      <td>25923.0</td>\n",
              "      <td>27058.0</td>\n",
              "      <td>0.95%</td>\n",
              "      <td>29-12-2020 17:00:00</td>\n",
              "      <td>0.009453</td>\n",
              "    </tr>\n",
              "    <tr>\n",
              "      <th>2</th>\n",
              "      <td>7.60K</td>\n",
              "      <td>27058.0</td>\n",
              "      <td>27308.0</td>\n",
              "      <td>26241.0</td>\n",
              "      <td>26241.0</td>\n",
              "      <td>3.11%</td>\n",
              "      <td>28-12-2020 17:00:00</td>\n",
              "      <td>0.030660</td>\n",
              "    </tr>\n",
              "    <tr>\n",
              "      <th>3</th>\n",
              "      <td>17.96K</td>\n",
              "      <td>26241.0</td>\n",
              "      <td>28051.1</td>\n",
              "      <td>26241.0</td>\n",
              "      <td>26410.0</td>\n",
              "      <td>-0.65%</td>\n",
              "      <td>27-12-2020 17:00:00</td>\n",
              "      <td>-0.006420</td>\n",
              "    </tr>\n",
              "    <tr>\n",
              "      <th>4</th>\n",
              "      <td>13.15K</td>\n",
              "      <td>26412.0</td>\n",
              "      <td>26577.0</td>\n",
              "      <td>24566.0</td>\n",
              "      <td>24717.0</td>\n",
              "      <td>6.86%</td>\n",
              "      <td>26-12-2020 17:00:00</td>\n",
              "      <td>0.066327</td>\n",
              "    </tr>\n",
              "    <tr>\n",
              "      <th>...</th>\n",
              "      <td>...</td>\n",
              "      <td>...</td>\n",
              "      <td>...</td>\n",
              "      <td>...</td>\n",
              "      <td>...</td>\n",
              "      <td>...</td>\n",
              "      <td>...</td>\n",
              "      <td>...</td>\n",
              "    </tr>\n",
              "    <tr>\n",
              "      <th>331</th>\n",
              "      <td>4.45K</td>\n",
              "      <td>7364.6</td>\n",
              "      <td>7509.9</td>\n",
              "      <td>7315.8</td>\n",
              "      <td>7370.3</td>\n",
              "      <td>-0.07%</td>\n",
              "      <td>05-01-2020 17:00:00</td>\n",
              "      <td>-0.000774</td>\n",
              "    </tr>\n",
              "    <tr>\n",
              "      <th>332</th>\n",
              "      <td>4.27K</td>\n",
              "      <td>7369.8</td>\n",
              "      <td>7422.0</td>\n",
              "      <td>7297.7</td>\n",
              "      <td>7371.8</td>\n",
              "      <td>0.03%</td>\n",
              "      <td>04-01-2020 17:00:00</td>\n",
              "      <td>-0.000271</td>\n",
              "    </tr>\n",
              "    <tr>\n",
              "      <th>333</th>\n",
              "      <td>6.68K</td>\n",
              "      <td>7367.5</td>\n",
              "      <td>7437.6</td>\n",
              "      <td>6909.3</td>\n",
              "      <td>6989.4</td>\n",
              "      <td>5.41%</td>\n",
              "      <td>03-01-2020 17:00:00</td>\n",
              "      <td>0.052684</td>\n",
              "    </tr>\n",
              "    <tr>\n",
              "      <th>334</th>\n",
              "      <td>4.85K</td>\n",
              "      <td>6989.4</td>\n",
              "      <td>7225.2</td>\n",
              "      <td>6963.0</td>\n",
              "      <td>7212.7</td>\n",
              "      <td>-3.10%</td>\n",
              "      <td>02-01-2020 17:00:00</td>\n",
              "      <td>-0.031449</td>\n",
              "    </tr>\n",
              "    <tr>\n",
              "      <th>335</th>\n",
              "      <td>2.07K</td>\n",
              "      <td>7212.7</td>\n",
              "      <td>7268.8</td>\n",
              "      <td>7185.4</td>\n",
              "      <td>7208.2</td>\n",
              "      <td>0.06%</td>\n",
              "      <td>01-01-2020 17:00:00</td>\n",
              "      <td>0.000624</td>\n",
              "    </tr>\n",
              "  </tbody>\n",
              "</table>\n",
              "<p>336 rows × 8 columns</p>\n",
              "</div>"
            ],
            "text/plain": [
              "     volume    price     high  ...  change                 date  log_diff\n",
              "0    10.51K  28880.0  28892.0  ...   5.73%  30-12-2020 17:00:00  0.055677\n",
              "1     8.92K  27315.0  27315.0  ...   0.95%  29-12-2020 17:00:00  0.009453\n",
              "2     7.60K  27058.0  27308.0  ...   3.11%  28-12-2020 17:00:00  0.030660\n",
              "3    17.96K  26241.0  28051.1  ...  -0.65%  27-12-2020 17:00:00 -0.006420\n",
              "4    13.15K  26412.0  26577.0  ...   6.86%  26-12-2020 17:00:00  0.066327\n",
              "..      ...      ...      ...  ...     ...                  ...       ...\n",
              "331   4.45K   7364.6   7509.9  ...  -0.07%  05-01-2020 17:00:00 -0.000774\n",
              "332   4.27K   7369.8   7422.0  ...   0.03%  04-01-2020 17:00:00 -0.000271\n",
              "333   6.68K   7367.5   7437.6  ...   5.41%  03-01-2020 17:00:00  0.052684\n",
              "334   4.85K   6989.4   7225.2  ...  -3.10%  02-01-2020 17:00:00 -0.031449\n",
              "335   2.07K   7212.7   7268.8  ...   0.06%  01-01-2020 17:00:00  0.000624\n",
              "\n",
              "[336 rows x 8 columns]"
            ]
          },
          "metadata": {
            "tags": []
          },
          "execution_count": 16
        }
      ]
    },
    {
      "cell_type": "code",
      "metadata": {
        "colab": {
          "base_uri": "https://localhost:8080/",
          "height": 267
        },
        "id": "aM-DffzkT9Wh",
        "outputId": "92002d3d-7259-485c-ee6f-ff553edcb712"
      },
      "source": [
        "df[\"log_diff\"].hist()\n",
        "plt.show()"
      ],
      "execution_count": null,
      "outputs": [
        {
          "output_type": "display_data",
          "data": {
            "image/png": "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\n",
            "text/plain": [
              "<Figure size 432x288 with 1 Axes>"
            ]
          },
          "metadata": {
            "tags": [],
            "needs_background": "light"
          }
        }
      ]
    },
    {
      "cell_type": "code",
      "metadata": {
        "colab": {
          "base_uri": "https://localhost:8080/",
          "height": 353
        },
        "id": "ra0IRT8uUwsF",
        "outputId": "88bed22d-4c8b-4bd7-89d2-772d246e7580"
      },
      "source": [
        "df.plot(x = \"date\",\n",
        "        y = \"price\",\n",
        "        kind = \"line\",\n",
        "        rot = 45)\n",
        "plt.show()"
      ],
      "execution_count": null,
      "outputs": [
        {
          "output_type": "display_data",
          "data": {
            "image/png": "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\n",
            "text/plain": [
              "<Figure size 432x288 with 1 Axes>"
            ]
          },
          "metadata": {
            "tags": [],
            "needs_background": "light"
          }
        }
      ]
    },
    {
      "cell_type": "code",
      "metadata": {
        "colab": {
          "base_uri": "https://localhost:8080/",
          "height": 351
        },
        "id": "Z8NUB0KSXUNe",
        "outputId": "0651b294-3f86-4822-a46d-a4a588d1a8a5"
      },
      "source": [
        "df.plot(x = \"date\",\n",
        "        y = \"log_diff\",\n",
        "        kind = \"line\",\n",
        "        rot = 45)\n",
        "plt.show()"
      ],
      "execution_count": null,
      "outputs": [
        {
          "output_type": "display_data",
          "data": {
            "image/png": "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\n",
            "text/plain": [
              "<Figure size 432x288 with 1 Axes>"
            ]
          },
          "metadata": {
            "tags": [],
            "needs_background": "light"
          }
        }
      ]
    },
    {
      "cell_type": "code",
      "metadata": {
        "colab": {
          "base_uri": "https://localhost:8080/",
          "height": 391
        },
        "id": "NEu10KkjY2w1",
        "outputId": "8910741d-5ae6-40bf-8b06-fe1c904603e3"
      },
      "source": [
        "df['target'] = [1 if log_diff > 0 else 0 for log_diff in df['log_diff']]\n",
        "df"
      ],
      "execution_count": null,
      "outputs": [
        {
          "output_type": "execute_result",
          "data": {
            "text/html": [
              "<div>\n",
              "<style scoped>\n",
              "    .dataframe tbody tr th:only-of-type {\n",
              "        vertical-align: middle;\n",
              "    }\n",
              "\n",
              "    .dataframe tbody tr th {\n",
              "        vertical-align: top;\n",
              "    }\n",
              "\n",
              "    .dataframe thead th {\n",
              "        text-align: right;\n",
              "    }\n",
              "</style>\n",
              "<table border=\"1\" class=\"dataframe\">\n",
              "  <thead>\n",
              "    <tr style=\"text-align: right;\">\n",
              "      <th></th>\n",
              "      <th>volume</th>\n",
              "      <th>price</th>\n",
              "      <th>high</th>\n",
              "      <th>low</th>\n",
              "      <th>open</th>\n",
              "      <th>change</th>\n",
              "      <th>date</th>\n",
              "      <th>log_diff</th>\n",
              "      <th>target</th>\n",
              "    </tr>\n",
              "  </thead>\n",
              "  <tbody>\n",
              "    <tr>\n",
              "      <th>0</th>\n",
              "      <td>10.51K</td>\n",
              "      <td>28880.0</td>\n",
              "      <td>28892.0</td>\n",
              "      <td>27316.0</td>\n",
              "      <td>27316.0</td>\n",
              "      <td>5.73%</td>\n",
              "      <td>30-12-2020 17:00:00</td>\n",
              "      <td>0.055677</td>\n",
              "      <td>1</td>\n",
              "    </tr>\n",
              "    <tr>\n",
              "      <th>1</th>\n",
              "      <td>8.92K</td>\n",
              "      <td>27315.0</td>\n",
              "      <td>27315.0</td>\n",
              "      <td>25923.0</td>\n",
              "      <td>27058.0</td>\n",
              "      <td>0.95%</td>\n",
              "      <td>29-12-2020 17:00:00</td>\n",
              "      <td>0.009453</td>\n",
              "      <td>1</td>\n",
              "    </tr>\n",
              "    <tr>\n",
              "      <th>2</th>\n",
              "      <td>7.60K</td>\n",
              "      <td>27058.0</td>\n",
              "      <td>27308.0</td>\n",
              "      <td>26241.0</td>\n",
              "      <td>26241.0</td>\n",
              "      <td>3.11%</td>\n",
              "      <td>28-12-2020 17:00:00</td>\n",
              "      <td>0.030660</td>\n",
              "      <td>1</td>\n",
              "    </tr>\n",
              "    <tr>\n",
              "      <th>3</th>\n",
              "      <td>17.96K</td>\n",
              "      <td>26241.0</td>\n",
              "      <td>28051.1</td>\n",
              "      <td>26241.0</td>\n",
              "      <td>26410.0</td>\n",
              "      <td>-0.65%</td>\n",
              "      <td>27-12-2020 17:00:00</td>\n",
              "      <td>-0.006420</td>\n",
              "      <td>0</td>\n",
              "    </tr>\n",
              "    <tr>\n",
              "      <th>4</th>\n",
              "      <td>13.15K</td>\n",
              "      <td>26412.0</td>\n",
              "      <td>26577.0</td>\n",
              "      <td>24566.0</td>\n",
              "      <td>24717.0</td>\n",
              "      <td>6.86%</td>\n",
              "      <td>26-12-2020 17:00:00</td>\n",
              "      <td>0.066327</td>\n",
              "      <td>1</td>\n",
              "    </tr>\n",
              "    <tr>\n",
              "      <th>...</th>\n",
              "      <td>...</td>\n",
              "      <td>...</td>\n",
              "      <td>...</td>\n",
              "      <td>...</td>\n",
              "      <td>...</td>\n",
              "      <td>...</td>\n",
              "      <td>...</td>\n",
              "      <td>...</td>\n",
              "      <td>...</td>\n",
              "    </tr>\n",
              "    <tr>\n",
              "      <th>331</th>\n",
              "      <td>4.45K</td>\n",
              "      <td>7364.6</td>\n",
              "      <td>7509.9</td>\n",
              "      <td>7315.8</td>\n",
              "      <td>7370.3</td>\n",
              "      <td>-0.07%</td>\n",
              "      <td>05-01-2020 17:00:00</td>\n",
              "      <td>-0.000774</td>\n",
              "      <td>0</td>\n",
              "    </tr>\n",
              "    <tr>\n",
              "      <th>332</th>\n",
              "      <td>4.27K</td>\n",
              "      <td>7369.8</td>\n",
              "      <td>7422.0</td>\n",
              "      <td>7297.7</td>\n",
              "      <td>7371.8</td>\n",
              "      <td>0.03%</td>\n",
              "      <td>04-01-2020 17:00:00</td>\n",
              "      <td>-0.000271</td>\n",
              "      <td>0</td>\n",
              "    </tr>\n",
              "    <tr>\n",
              "      <th>333</th>\n",
              "      <td>6.68K</td>\n",
              "      <td>7367.5</td>\n",
              "      <td>7437.6</td>\n",
              "      <td>6909.3</td>\n",
              "      <td>6989.4</td>\n",
              "      <td>5.41%</td>\n",
              "      <td>03-01-2020 17:00:00</td>\n",
              "      <td>0.052684</td>\n",
              "      <td>1</td>\n",
              "    </tr>\n",
              "    <tr>\n",
              "      <th>334</th>\n",
              "      <td>4.85K</td>\n",
              "      <td>6989.4</td>\n",
              "      <td>7225.2</td>\n",
              "      <td>6963.0</td>\n",
              "      <td>7212.7</td>\n",
              "      <td>-3.10%</td>\n",
              "      <td>02-01-2020 17:00:00</td>\n",
              "      <td>-0.031449</td>\n",
              "      <td>0</td>\n",
              "    </tr>\n",
              "    <tr>\n",
              "      <th>335</th>\n",
              "      <td>2.07K</td>\n",
              "      <td>7212.7</td>\n",
              "      <td>7268.8</td>\n",
              "      <td>7185.4</td>\n",
              "      <td>7208.2</td>\n",
              "      <td>0.06%</td>\n",
              "      <td>01-01-2020 17:00:00</td>\n",
              "      <td>0.000624</td>\n",
              "      <td>1</td>\n",
              "    </tr>\n",
              "  </tbody>\n",
              "</table>\n",
              "<p>336 rows × 9 columns</p>\n",
              "</div>"
            ],
            "text/plain": [
              "     volume    price     high  ...                 date  log_diff target\n",
              "0    10.51K  28880.0  28892.0  ...  30-12-2020 17:00:00  0.055677      1\n",
              "1     8.92K  27315.0  27315.0  ...  29-12-2020 17:00:00  0.009453      1\n",
              "2     7.60K  27058.0  27308.0  ...  28-12-2020 17:00:00  0.030660      1\n",
              "3    17.96K  26241.0  28051.1  ...  27-12-2020 17:00:00 -0.006420      0\n",
              "4    13.15K  26412.0  26577.0  ...  26-12-2020 17:00:00  0.066327      1\n",
              "..      ...      ...      ...  ...                  ...       ...    ...\n",
              "331   4.45K   7364.6   7509.9  ...  05-01-2020 17:00:00 -0.000774      0\n",
              "332   4.27K   7369.8   7422.0  ...  04-01-2020 17:00:00 -0.000271      0\n",
              "333   6.68K   7367.5   7437.6  ...  03-01-2020 17:00:00  0.052684      1\n",
              "334   4.85K   6989.4   7225.2  ...  02-01-2020 17:00:00 -0.031449      0\n",
              "335   2.07K   7212.7   7268.8  ...  01-01-2020 17:00:00  0.000624      1\n",
              "\n",
              "[336 rows x 9 columns]"
            ]
          },
          "metadata": {
            "tags": []
          },
          "execution_count": 30
        }
      ]
    },
    {
      "cell_type": "code",
      "metadata": {
        "colab": {
          "base_uri": "https://localhost:8080/",
          "height": 357
        },
        "id": "OJtXb9dqRSjo",
        "outputId": "821c4015-bda8-4956-a0cc-d5cdb33ad920"
      },
      "source": [
        "format = '%d-%m-%Y %H:%M:%S'\n",
        "timezone = 'GMT'\n",
        "df['u_timestamp'] = OpenBlender.dateToUnix(df['date'], \n",
        "                                           date_format = format, \n",
        "                                           timezone = timezone)\n",
        "df = df[['date', 'timestamp', 'price', 'target']]\n",
        "df.head()\n"
      ],
      "execution_count": null,
      "outputs": [
        {
          "output_type": "error",
          "ename": "KeyError",
          "evalue": "ignored",
          "traceback": [
            "\u001b[0;31m---------------------------------------------------------------------------\u001b[0m",
            "\u001b[0;31mKeyError\u001b[0m                                  Traceback (most recent call last)",
            "\u001b[0;32m<ipython-input-12-e5959448a40a>\u001b[0m in \u001b[0;36m<module>\u001b[0;34m()\u001b[0m\n\u001b[1;32m      4\u001b[0m                                            \u001b[0mdate_format\u001b[0m \u001b[0;34m=\u001b[0m \u001b[0mformat\u001b[0m\u001b[0;34m,\u001b[0m\u001b[0;34m\u001b[0m\u001b[0;34m\u001b[0m\u001b[0m\n\u001b[1;32m      5\u001b[0m                                            timezone = timezone)\n\u001b[0;32m----> 6\u001b[0;31m \u001b[0mdf\u001b[0m \u001b[0;34m=\u001b[0m \u001b[0mdf\u001b[0m\u001b[0;34m[\u001b[0m\u001b[0;34m[\u001b[0m\u001b[0;34m'date'\u001b[0m\u001b[0;34m,\u001b[0m \u001b[0;34m'timestamp'\u001b[0m\u001b[0;34m,\u001b[0m \u001b[0;34m'price'\u001b[0m\u001b[0;34m,\u001b[0m \u001b[0;34m'target'\u001b[0m\u001b[0;34m]\u001b[0m\u001b[0;34m]\u001b[0m\u001b[0;34m\u001b[0m\u001b[0;34m\u001b[0m\u001b[0m\n\u001b[0m\u001b[1;32m      7\u001b[0m \u001b[0mdf\u001b[0m\u001b[0;34m.\u001b[0m\u001b[0mhead\u001b[0m\u001b[0;34m(\u001b[0m\u001b[0;34m)\u001b[0m\u001b[0;34m\u001b[0m\u001b[0;34m\u001b[0m\u001b[0m\n",
            "\u001b[0;32m/usr/local/lib/python3.7/dist-packages/pandas/core/frame.py\u001b[0m in \u001b[0;36m__getitem__\u001b[0;34m(self, key)\u001b[0m\n\u001b[1;32m   2910\u001b[0m             \u001b[0;32mif\u001b[0m \u001b[0mis_iterator\u001b[0m\u001b[0;34m(\u001b[0m\u001b[0mkey\u001b[0m\u001b[0;34m)\u001b[0m\u001b[0;34m:\u001b[0m\u001b[0;34m\u001b[0m\u001b[0;34m\u001b[0m\u001b[0m\n\u001b[1;32m   2911\u001b[0m                 \u001b[0mkey\u001b[0m \u001b[0;34m=\u001b[0m \u001b[0mlist\u001b[0m\u001b[0;34m(\u001b[0m\u001b[0mkey\u001b[0m\u001b[0;34m)\u001b[0m\u001b[0;34m\u001b[0m\u001b[0;34m\u001b[0m\u001b[0m\n\u001b[0;32m-> 2912\u001b[0;31m             \u001b[0mindexer\u001b[0m \u001b[0;34m=\u001b[0m \u001b[0mself\u001b[0m\u001b[0;34m.\u001b[0m\u001b[0mloc\u001b[0m\u001b[0;34m.\u001b[0m\u001b[0m_get_listlike_indexer\u001b[0m\u001b[0;34m(\u001b[0m\u001b[0mkey\u001b[0m\u001b[0;34m,\u001b[0m \u001b[0maxis\u001b[0m\u001b[0;34m=\u001b[0m\u001b[0;36m1\u001b[0m\u001b[0;34m,\u001b[0m \u001b[0mraise_missing\u001b[0m\u001b[0;34m=\u001b[0m\u001b[0;32mTrue\u001b[0m\u001b[0;34m)\u001b[0m\u001b[0;34m[\u001b[0m\u001b[0;36m1\u001b[0m\u001b[0;34m]\u001b[0m\u001b[0;34m\u001b[0m\u001b[0;34m\u001b[0m\u001b[0m\n\u001b[0m\u001b[1;32m   2913\u001b[0m \u001b[0;34m\u001b[0m\u001b[0m\n\u001b[1;32m   2914\u001b[0m         \u001b[0;31m# take() does not accept boolean indexers\u001b[0m\u001b[0;34m\u001b[0m\u001b[0;34m\u001b[0m\u001b[0;34m\u001b[0m\u001b[0m\n",
            "\u001b[0;32m/usr/local/lib/python3.7/dist-packages/pandas/core/indexing.py\u001b[0m in \u001b[0;36m_get_listlike_indexer\u001b[0;34m(self, key, axis, raise_missing)\u001b[0m\n\u001b[1;32m   1252\u001b[0m             \u001b[0mkeyarr\u001b[0m\u001b[0;34m,\u001b[0m \u001b[0mindexer\u001b[0m\u001b[0;34m,\u001b[0m \u001b[0mnew_indexer\u001b[0m \u001b[0;34m=\u001b[0m \u001b[0max\u001b[0m\u001b[0;34m.\u001b[0m\u001b[0m_reindex_non_unique\u001b[0m\u001b[0;34m(\u001b[0m\u001b[0mkeyarr\u001b[0m\u001b[0;34m)\u001b[0m\u001b[0;34m\u001b[0m\u001b[0;34m\u001b[0m\u001b[0m\n\u001b[1;32m   1253\u001b[0m \u001b[0;34m\u001b[0m\u001b[0m\n\u001b[0;32m-> 1254\u001b[0;31m         \u001b[0mself\u001b[0m\u001b[0;34m.\u001b[0m\u001b[0m_validate_read_indexer\u001b[0m\u001b[0;34m(\u001b[0m\u001b[0mkeyarr\u001b[0m\u001b[0;34m,\u001b[0m \u001b[0mindexer\u001b[0m\u001b[0;34m,\u001b[0m \u001b[0maxis\u001b[0m\u001b[0;34m,\u001b[0m \u001b[0mraise_missing\u001b[0m\u001b[0;34m=\u001b[0m\u001b[0mraise_missing\u001b[0m\u001b[0;34m)\u001b[0m\u001b[0;34m\u001b[0m\u001b[0;34m\u001b[0m\u001b[0m\n\u001b[0m\u001b[1;32m   1255\u001b[0m         \u001b[0;32mreturn\u001b[0m \u001b[0mkeyarr\u001b[0m\u001b[0;34m,\u001b[0m \u001b[0mindexer\u001b[0m\u001b[0;34m\u001b[0m\u001b[0;34m\u001b[0m\u001b[0m\n\u001b[1;32m   1256\u001b[0m \u001b[0;34m\u001b[0m\u001b[0m\n",
            "\u001b[0;32m/usr/local/lib/python3.7/dist-packages/pandas/core/indexing.py\u001b[0m in \u001b[0;36m_validate_read_indexer\u001b[0;34m(self, key, indexer, axis, raise_missing)\u001b[0m\n\u001b[1;32m   1302\u001b[0m             \u001b[0;32mif\u001b[0m \u001b[0mraise_missing\u001b[0m\u001b[0;34m:\u001b[0m\u001b[0;34m\u001b[0m\u001b[0;34m\u001b[0m\u001b[0m\n\u001b[1;32m   1303\u001b[0m                 \u001b[0mnot_found\u001b[0m \u001b[0;34m=\u001b[0m \u001b[0mlist\u001b[0m\u001b[0;34m(\u001b[0m\u001b[0mset\u001b[0m\u001b[0;34m(\u001b[0m\u001b[0mkey\u001b[0m\u001b[0;34m)\u001b[0m \u001b[0;34m-\u001b[0m \u001b[0mset\u001b[0m\u001b[0;34m(\u001b[0m\u001b[0max\u001b[0m\u001b[0;34m)\u001b[0m\u001b[0;34m)\u001b[0m\u001b[0;34m\u001b[0m\u001b[0;34m\u001b[0m\u001b[0m\n\u001b[0;32m-> 1304\u001b[0;31m                 \u001b[0;32mraise\u001b[0m \u001b[0mKeyError\u001b[0m\u001b[0;34m(\u001b[0m\u001b[0;34mf\"{not_found} not in index\"\u001b[0m\u001b[0;34m)\u001b[0m\u001b[0;34m\u001b[0m\u001b[0;34m\u001b[0m\u001b[0m\n\u001b[0m\u001b[1;32m   1305\u001b[0m \u001b[0;34m\u001b[0m\u001b[0m\n\u001b[1;32m   1306\u001b[0m             \u001b[0;31m# we skip the warning on Categorical\u001b[0m\u001b[0;34m\u001b[0m\u001b[0;34m\u001b[0m\u001b[0;34m\u001b[0m\u001b[0m\n",
            "\u001b[0;31mKeyError\u001b[0m: \"['timestamp'] not in index\""
          ]
        }
      ]
    },
    {
      "cell_type": "code",
      "metadata": {
        "id": "DH01lp_0W6wS"
      },
      "source": [
        "search_keyword = 'bitcoin'\n",
        "df = df.sort_values('timestamp').reset_index(drop = True)\n",
        "print('From : ' + OpenBlender.unixToDate(min(df.timestamp)))\n",
        "print('Until: ' + OpenBlender.unixToDate(max(df.timestamp)))\n",
        "OpenBlender.searchTimeBlends(token,\n",
        "                             df.timestamp,\n",
        "                             search_keyword)\n"
      ],
      "execution_count": null,
      "outputs": []
    },
    {
      "cell_type": "code",
      "metadata": {
        "id": "u0r9qLM5W9bo"
      },
      "source": [
        "blend_source = {\n",
        "                'id_dataset':'5ea2039095162936337156c9',\n",
        "                'feature' : 'text'\n",
        "            }\n",
        "\n",
        "# Now, let's 'timeBlend' it to our dataset\n",
        "df_blend = OpenBlender.timeBlend( token = token,\n",
        "                                  anchor_ts = df.timestamp,\n",
        "                                  blend_source = blend_source,\n",
        "                                  blend_type = 'agg_in_intervals',\n",
        "                                  interval_size = 60 * 60 * 24,\n",
        "                                  direction = 'time_prior',\n",
        "                                  interval_output = 'list',\n",
        "                                  missing_values = 'raw')\n",
        "df = pd.concat([df, df_blend.loc[:, df_blend.columns != 'timestamp']], axis = 1)\n",
        "df.head()\n"
      ],
      "execution_count": null,
      "outputs": []
    },
    {
      "cell_type": "code",
      "metadata": {
        "id": "o2FjCds5XADU"
      },
      "source": [
        "positive_filter = {'name' : 'positive', \n",
        "                   'match_ngrams': ['positive', 'buy', \n",
        "                                    'bull', 'boost']}\n",
        "blend_source = {\n",
        "                'id_dataset':'5ea2039095162936337156c9',\n",
        "                'feature' : 'text',\n",
        "                'filter_text' : positive_filter\n",
        "            }\n",
        "df_blend = OpenBlender.timeBlend( token = token,\n",
        "                                  anchor_ts = df.timestamp,\n",
        "                                  blend_source = blend_source,\n",
        "                                  blend_type = 'agg_in_intervals',\n",
        "                                  interval_size = 60 * 60 * 24,\n",
        "                                  direction = 'time_prior',\n",
        "                                  interval_output = 'list',\n",
        "                                  missing_values = 'raw')\n",
        "df = pd.concat([df, df_blend.loc[:, df_blend.columns != 'timestamp']], axis = 1)\n",
        "\n",
        "# And now the negatives\n",
        "negative_filter = {'name' : 'negative', \n",
        "                   'match_ngrams': ['negative', 'loss', 'drop', 'plummet', 'sell', 'fundraising']}\n",
        "blend_source = {\n",
        "                'id_dataset':'5ea2039095162936337156c9',\n",
        "                'feature' : 'text',\n",
        "                'filter_text' : negative_filter\n",
        "            }\n",
        "df_blend = OpenBlender.timeBlend( token = token,\n",
        "                                  anchor_ts = df.timestamp,\n",
        "                                  blend_source = blend_source,\n",
        "                                  blend_type = 'agg_in_intervals', #closest_observation\n",
        "                                  interval_size = 60 * 60 * 24,\n",
        "                                  direction = 'time_prior',\n",
        "                                  interval_output = 'list',\n",
        "                                  missing_values = 'raw')\n",
        "df = pd.concat([df, df_blend.loc[:, df_blend.columns != 'timestamp']], axis = 1)\n"
      ],
      "execution_count": null,
      "outputs": []
    },
    {
      "cell_type": "code",
      "metadata": {
        "id": "uHP6xqgaXC8n"
      },
      "source": [
        "features = ['target', 'BITCOIN_NE.text_COUNT_last1days:positive', 'BITCOIN_NE.text_COUNT_last1days:negative']\n",
        "df_anchor[features].corr()['target']"
      ],
      "execution_count": null,
      "outputs": []
    },
    {
      "cell_type": "code",
      "metadata": {
        "id": "ria7Md3D1VPk"
      },
      "source": [
        "# BTC Text Vectorizer\n",
        "blend_source = { \n",
        "                'id_textVectorizer':'5f739fe7951629649472e167'\n",
        "               }\n",
        "df_blend = OpenBlender.timeBlend( token = token,\n",
        "                                  anchor_ts = df_anchor.timestamp,\n",
        "                                  blend_source = blend_source,\n",
        "                                  blend_type = 'agg_in_intervals',\n",
        "                                  interval_size = 60 * 60 * 24,\n",
        "                                  direction = 'time_prior',\n",
        "                                  interval_output = 'list',\n",
        "                                  missing_values = 'raw') .add_prefix('VEC.')\n",
        "df_anchor = pd.concat([df_anchor, df_blend.loc[:, df_blend.columns != 'timestamp']], axis = 1)\n",
        "df_anchor.head()"
      ],
      "execution_count": null,
      "outputs": []
    },
    {
      "cell_type": "markdown",
      "metadata": {
        "id": "1iYVSYGH1lz8"
      },
      "source": [
        "## Aplicar ML y Vista resultados"
      ]
    },
    {
      "cell_type": "code",
      "metadata": {
        "id": "vK5wBSo_1qMV"
      },
      "source": [
        "from sklearn.ensemble import RandomForestRegressor\n",
        "from sklearn.metrics import accuracy_score\n",
        "from sklearn.metrics import precision_score\n",
        "# We drop correlated features because with so many binary \n",
        "# ngram variables there's a lot of noise\n",
        "corr_matrix = df_anchor.corr().abs()\n",
        "upper = corr_matrix.where(np.triu(np.ones(corr_matrix.shape), k=1).astype(np.bool))\n",
        "df_anchor.drop([column for column in upper.columns if any(upper[column] > 0.5)], axis=1, inplace=True)"
      ],
      "execution_count": null,
      "outputs": []
    }
  ]
}
# BTC Text Vectorizer
blend_source = { 
                'id_textVectorizer':'5f739fe7951629649472e167'
               }
df_blend = OpenBlender.timeBlend( token = token,
                                  anchor_ts = df_anchor.timestamp,
                                  blend_source = blend_source,
                                  blend_type = 'agg_in_intervals',
                                  interval_size = 60 * 60 * 24,
                                  direction = 'time_prior',
                                  interval_output = 'list',
                                  missing_values = 'raw') .add_prefix('VEC.')
df_anchor = pd.concat([df_anchor, df_blend.loc[:, df_blend.columns != 'timestamp']], axis = 1)
df_anchor.head()
